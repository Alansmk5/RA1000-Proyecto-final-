{
  "nbformat": 4,
  "nbformat_minor": 0,
  "metadata": {
    "colab": {
      "provenance": []
    },
    "kernelspec": {
      "name": "python3",
      "display_name": "Python 3"
    },
    "language_info": {
      "name": "python"
    }
  },
  "cells": [
    {
      "cell_type": "code",
      "execution_count": null,
      "metadata": {
        "id": "tVNtL2Ky9oFu"
      },
      "outputs": [],
      "source": [
        "\n",
        "import numpy as np"
      ]
    },
    {
      "cell_type": "markdown",
      "source": [
        "Código para realizar operaciones elementales por renglones."
      ],
      "metadata": {
        "id": "DG7-BIjV-JLs"
      }
    },
    {
      "cell_type": "code",
      "source": [
        "5**2"
      ],
      "metadata": {
        "colab": {
          "base_uri": "https://localhost:8080/"
        },
        "id": "mekpDlhh-KhP",
        "outputId": "e5120557-1065-44aa-9eb3-ad333d142261"
      },
      "execution_count": null,
      "outputs": [
        {
          "output_type": "execute_result",
          "data": {
            "text/plain": [
              "25"
            ]
          },
          "metadata": {},
          "execution_count": 33
        }
      ]
    },
    {
      "cell_type": "code",
      "source": [
        "def Vale(x,n):\n",
        "  y = x**n\n",
        "  return y"
      ],
      "metadata": {
        "id": "VzRVLUxX-N3-"
      },
      "execution_count": null,
      "outputs": []
    },
    {
      "cell_type": "code",
      "source": [
        "Vale(9.2,3)"
      ],
      "metadata": {
        "colab": {
          "base_uri": "https://localhost:8080/"
        },
        "id": "X_Cw3yxq-Ub6",
        "outputId": "21f8402e-007c-45d7-d889-c743f8b522fc"
      },
      "execution_count": null,
      "outputs": [
        {
          "output_type": "execute_result",
          "data": {
            "text/plain": [
              "778.6879999999999"
            ]
          },
          "metadata": {},
          "execution_count": 35
        }
      ]
    },
    {
      "cell_type": "code",
      "source": [
        "6 % 2"
      ],
      "metadata": {
        "colab": {
          "base_uri": "https://localhost:8080/"
        },
        "id": "Kzg9NXO5-Vt0",
        "outputId": "c2eafb47-f64a-48eb-eeb4-93dc0e7c1456"
      },
      "execution_count": null,
      "outputs": [
        {
          "output_type": "execute_result",
          "data": {
            "text/plain": [
              "0"
            ]
          },
          "metadata": {},
          "execution_count": 36
        }
      ]
    },
    {
      "cell_type": "code",
      "source": [
        "# loops ciclos\n",
        "indice = [1, 2, 3, 4, 5]\n",
        "\n",
        "pares = [x for x in indice if x%2==0]\n",
        "\n",
        "pares"
      ],
      "metadata": {
        "colab": {
          "base_uri": "https://localhost:8080/"
        },
        "id": "HEAC3aVN-YzI",
        "outputId": "44e9f737-8d13-4f54-b821-1e9998ea0344"
      },
      "execution_count": null,
      "outputs": [
        {
          "output_type": "execute_result",
          "data": {
            "text/plain": [
              "[2, 4]"
            ]
          },
          "metadata": {},
          "execution_count": 37
        }
      ]
    },
    {
      "cell_type": "code",
      "source": [
        "[x for x in range(1,6)]"
      ],
      "metadata": {
        "colab": {
          "base_uri": "https://localhost:8080/"
        },
        "id": "jFSx87d2-b1l",
        "outputId": "90d57146-e770-464d-fa20-e7f29afb964d"
      },
      "execution_count": null,
      "outputs": [
        {
          "output_type": "execute_result",
          "data": {
            "text/plain": [
              "[1, 2, 3, 4, 5]"
            ]
          },
          "metadata": {},
          "execution_count": 38
        }
      ]
    },
    {
      "cell_type": "markdown",
      "source": [
        "# Coefientes de una matriz: acceso en numpy"
      ],
      "metadata": {
        "id": "Yoj4ynxL-ih8"
      }
    },
    {
      "cell_type": "code",
      "source": [
        "A = np.array([[2, 1, 0.5], [1, 0 ,0 ], [2, 1, 0], [5, -1, 3] ] )\n",
        "\n",
        "A"
      ],
      "metadata": {
        "colab": {
          "base_uri": "https://localhost:8080/"
        },
        "id": "UEv-Uyfd-lt0",
        "outputId": "5c40079e-7626-4188-dbe9-43cfdaae5b91"
      },
      "execution_count": null,
      "outputs": [
        {
          "output_type": "execute_result",
          "data": {
            "text/plain": [
              "array([[ 2. ,  1. ,  0.5],\n",
              "       [ 1. ,  0. ,  0. ],\n",
              "       [ 2. ,  1. ,  0. ],\n",
              "       [ 5. , -1. ,  3. ]])"
            ]
          },
          "metadata": {},
          "execution_count": 39
        }
      ]
    },
    {
      "cell_type": "code",
      "source": [
        "\n",
        "A.shape"
      ],
      "metadata": {
        "colab": {
          "base_uri": "https://localhost:8080/"
        },
        "id": "GS5c7AuZ-pYM",
        "outputId": "89d03003-b98a-4739-a59b-5b4b04804bb7"
      },
      "execution_count": null,
      "outputs": [
        {
          "output_type": "execute_result",
          "data": {
            "text/plain": [
              "(4, 3)"
            ]
          },
          "metadata": {},
          "execution_count": 40
        }
      ]
    },
    {
      "cell_type": "code",
      "source": [
        "indice"
      ],
      "metadata": {
        "colab": {
          "base_uri": "https://localhost:8080/"
        },
        "id": "Ei2WamGg-sd3",
        "outputId": "57a4395d-0556-4ced-9292-0ecc4b0a3b7c"
      },
      "execution_count": null,
      "outputs": [
        {
          "output_type": "execute_result",
          "data": {
            "text/plain": [
              "[1, 2, 3, 4, 5]"
            ]
          },
          "metadata": {},
          "execution_count": 41
        }
      ]
    },
    {
      "cell_type": "code",
      "source": [
        "# La indexación en Python comienza en 0\n",
        "\n",
        "print(indice[0])\n",
        "print(indice[4])"
      ],
      "metadata": {
        "colab": {
          "base_uri": "https://localhost:8080/"
        },
        "id": "aeZZ-zd3-wl1",
        "outputId": "5b39a002-973d-4009-c13a-e572383e8e95"
      },
      "execution_count": null,
      "outputs": [
        {
          "output_type": "stream",
          "name": "stdout",
          "text": [
            "1\n",
            "5\n"
          ]
        }
      ]
    },
    {
      "cell_type": "code",
      "source": [
        "A.shape[0] # número de columnas de la matriz A"
      ],
      "metadata": {
        "colab": {
          "base_uri": "https://localhost:8080/"
        },
        "id": "VpERh4Pb-x43",
        "outputId": "2b95a34f-6477-4fe6-f3ac-beab12f5feed"
      },
      "execution_count": null,
      "outputs": [
        {
          "output_type": "execute_result",
          "data": {
            "text/plain": [
              "4"
            ]
          },
          "metadata": {},
          "execution_count": 43
        }
      ]
    },
    {
      "cell_type": "code",
      "source": [
        "A.shape[1] # número de renglones de la matriz A"
      ],
      "metadata": {
        "colab": {
          "base_uri": "https://localhost:8080/"
        },
        "id": "cBRFqExL-06R",
        "outputId": "d5185ad5-18c6-464a-a72a-b226eb8ec9fd"
      },
      "execution_count": null,
      "outputs": [
        {
          "output_type": "execute_result",
          "data": {
            "text/plain": [
              "3"
            ]
          },
          "metadata": {},
          "execution_count": 44
        }
      ]
    },
    {
      "cell_type": "code",
      "source": [
        "A"
      ],
      "metadata": {
        "colab": {
          "base_uri": "https://localhost:8080/"
        },
        "id": "f7sySibZ-5fC",
        "outputId": "8ff54673-a609-4a48-a5a4-6c61f5abd257"
      },
      "execution_count": null,
      "outputs": [
        {
          "output_type": "execute_result",
          "data": {
            "text/plain": [
              "array([[ 2. ,  1. ,  0.5],\n",
              "       [ 1. ,  0. ,  0. ],\n",
              "       [ 2. ,  1. ,  0. ],\n",
              "       [ 5. , -1. ,  3. ]])"
            ]
          },
          "metadata": {},
          "execution_count": 45
        }
      ]
    },
    {
      "cell_type": "code",
      "source": [
        "A[0] # primer renglón"
      ],
      "metadata": {
        "colab": {
          "base_uri": "https://localhost:8080/"
        },
        "id": "D2B4WBwX-8xx",
        "outputId": "8b43e833-6934-4c8c-d9b2-a4d6371d060c"
      },
      "execution_count": null,
      "outputs": [
        {
          "output_type": "execute_result",
          "data": {
            "text/plain": [
              "array([2. , 1. , 0.5])"
            ]
          },
          "metadata": {},
          "execution_count": 46
        }
      ]
    },
    {
      "cell_type": "code",
      "source": [
        "\n",
        "A[3][1]"
      ],
      "metadata": {
        "colab": {
          "base_uri": "https://localhost:8080/"
        },
        "id": "bqtnc32V--xV",
        "outputId": "b980e58c-a6bf-4560-ef26-9cbb6e0511ca"
      },
      "execution_count": null,
      "outputs": [
        {
          "output_type": "execute_result",
          "data": {
            "text/plain": [
              "-1.0"
            ]
          },
          "metadata": {},
          "execution_count": 47
        }
      ]
    },
    {
      "cell_type": "code",
      "source": [
        "B = np.copy(A)\n",
        "B"
      ],
      "metadata": {
        "colab": {
          "base_uri": "https://localhost:8080/"
        },
        "id": "R1tT4r9I_CbI",
        "outputId": "f4515852-1c43-47b5-bd00-18c6b9a3c7ee"
      },
      "execution_count": null,
      "outputs": [
        {
          "output_type": "execute_result",
          "data": {
            "text/plain": [
              "array([[ 2. ,  1. ,  0.5],\n",
              "       [ 1. ,  0. ,  0. ],\n",
              "       [ 2. ,  1. ,  0. ],\n",
              "       [ 5. , -1. ,  3. ]])"
            ]
          },
          "metadata": {},
          "execution_count": 48
        }
      ]
    },
    {
      "cell_type": "code",
      "source": [
        "def RowSwap(A,k,l):\n",
        "# =============================================================================\n",
        "#     A  NumPy array.  RowSwap devolverá una matriz duplicada con filas\n",
        "# k y l intercambiados.\n",
        "# =============================================================================\n",
        "    m = A.shape[0]  # m renglones\n",
        "    n = A.shape[1]  # n columnas\n",
        "\n",
        "    B = np.copy(A).astype('float64')\n",
        "\n",
        "    for j in range(n):\n",
        "        temp = B[k][j]\n",
        "        B[k][j] = B[l][j]\n",
        "        B[l][j] = temp\n",
        "\n",
        "    return B\n",
        "\n",
        "def RowScale(A,k,scale):\n",
        "# =============================================================================\n",
        "#     A NumPy array.  RowScale devolverá una matriz duplicada con el\n",
        "# entradas de la fila k multiplicadas por escala..\n",
        "# =============================================================================\n",
        "    m = A.shape[0]  # m renglones\n",
        "    n = A.shape[1]  # n columnas\n",
        "\n",
        "    B = np.copy(A).astype('float64')\n",
        "\n",
        "    for j in range(n):\n",
        "        B[k][j] *= scale\n",
        "\n",
        "    return B\n",
        "\n",
        "def RowAdd(A,k,l,scale):\n",
        "# =============================================================================\n",
        "#     A numpy array.  RowAdd devolverá matriz duplicada con fila\n",
        "# l modificado. Los nuevos valores serán los valores antiguos de la fila l agregados a\n",
        "# los valores de la fila k, multiplicados por la escala.\n",
        "# =============================================================================\n",
        "    m = A.shape[0]  # m renglones\n",
        "    n = A.shape[1]  # n columnas\n",
        "\n",
        "    B = np.copy(A).astype('float64')\n",
        "\n",
        "    for j in range(n):\n",
        "        B[l][j] += B[k][j]*scale\n",
        "\n",
        "    return B\n"
      ],
      "metadata": {
        "id": "m1bMqjlR_DAu"
      },
      "execution_count": null,
      "outputs": []
    },
    {
      "cell_type": "code",
      "source": [
        "A"
      ],
      "metadata": {
        "colab": {
          "base_uri": "https://localhost:8080/"
        },
        "id": "y2EWXBPQ_HFJ",
        "outputId": "4ad6f4a9-2f2d-4bcb-b0f3-f510d0039729"
      },
      "execution_count": null,
      "outputs": [
        {
          "output_type": "execute_result",
          "data": {
            "text/plain": [
              "array([[ 2. ,  1. ,  0.5],\n",
              "       [ 1. ,  0. ,  0. ],\n",
              "       [ 2. ,  1. ,  0. ],\n",
              "       [ 5. , -1. ,  3. ]])"
            ]
          },
          "metadata": {},
          "execution_count": 50
        }
      ]
    },
    {
      "cell_type": "code",
      "source": [
        "RowSwap(A,0,1)"
      ],
      "metadata": {
        "colab": {
          "base_uri": "https://localhost:8080/"
        },
        "id": "AmcZikvz_Jyg",
        "outputId": "8af430f1-edde-482e-9a1f-333639e9ad1b"
      },
      "execution_count": null,
      "outputs": [
        {
          "output_type": "execute_result",
          "data": {
            "text/plain": [
              "array([[ 1. ,  0. ,  0. ],\n",
              "       [ 2. ,  1. ,  0.5],\n",
              "       [ 2. ,  1. ,  0. ],\n",
              "       [ 5. , -1. ,  3. ]])"
            ]
          },
          "metadata": {},
          "execution_count": 51
        }
      ]
    },
    {
      "cell_type": "code",
      "source": [
        "\n",
        "RowScale(A, 0, 0.5)"
      ],
      "metadata": {
        "colab": {
          "base_uri": "https://localhost:8080/"
        },
        "id": "0FwdM3g6_Ls5",
        "outputId": "752b08ab-859d-4d71-f796-d2620bb8b8d2"
      },
      "execution_count": null,
      "outputs": [
        {
          "output_type": "execute_result",
          "data": {
            "text/plain": [
              "array([[ 1.  ,  0.5 ,  0.25],\n",
              "       [ 1.  ,  0.  ,  0.  ],\n",
              "       [ 2.  ,  1.  ,  0.  ],\n",
              "       [ 5.  , -1.  ,  3.  ]])"
            ]
          },
          "metadata": {},
          "execution_count": 52
        }
      ]
    },
    {
      "cell_type": "code",
      "source": [
        "A"
      ],
      "metadata": {
        "id": "l5Ji6U1O_N4M",
        "outputId": "87f427b2-b92c-4d55-d0f0-9cef567f3333",
        "colab": {
          "base_uri": "https://localhost:8080/"
        }
      },
      "execution_count": null,
      "outputs": [
        {
          "output_type": "execute_result",
          "data": {
            "text/plain": [
              "array([[ 2. ,  1. ,  0.5],\n",
              "       [ 1. ,  0. ,  0. ],\n",
              "       [ 2. ,  1. ,  0. ],\n",
              "       [ 5. , -1. ,  3. ]])"
            ]
          },
          "metadata": {},
          "execution_count": 53
        }
      ]
    },
    {
      "cell_type": "code",
      "source": [
        "RowAdd(A, 0, 1, 2)"
      ],
      "metadata": {
        "id": "DbUprEyj_Ps6",
        "outputId": "ad26b19d-a2e7-4d2d-8d0c-31a6e61b61ae",
        "colab": {
          "base_uri": "https://localhost:8080/"
        }
      },
      "execution_count": null,
      "outputs": [
        {
          "output_type": "execute_result",
          "data": {
            "text/plain": [
              "array([[ 2. ,  1. ,  0.5],\n",
              "       [ 5. ,  2. ,  1. ],\n",
              "       [ 2. ,  1. ,  0. ],\n",
              "       [ 5. , -1. ,  3. ]])"
            ]
          },
          "metadata": {},
          "execution_count": 54
        }
      ]
    }
  ]
}