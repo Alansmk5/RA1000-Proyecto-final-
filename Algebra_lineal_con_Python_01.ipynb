{
  "nbformat": 4,
  "nbformat_minor": 0,
  "metadata": {
    "colab": {
      "provenance": []
    },
    "kernelspec": {
      "name": "python3",
      "display_name": "Python 3"
    },
    "language_info": {
      "name": "python"
    }
  },
  "cells": [
    {
      "cell_type": "markdown",
      "source": [
        "# Introduccion a Phyton ⚾\n",
        "\n",
        "1.  **Objetos:** Números, strings, listas, conjuntos, arreglos (vectores y/o matrices), diccionarios (crear bases de datos), DataFrames.\n",
        "2.   Atributos de objetos.\n",
        "\n",
        "\n",
        "\n",
        "\n"
      ],
      "metadata": {
        "id": "ZyYY4ByEfJ8U"
      }
    },
    {
      "cell_type": "markdown",
      "source": [
        "Hay funciones que estan escritas (Built-in) dentro de Python:\n",
        "\n",
        "*   suma(+), resta(-), Multiplicacion( * ), LateX(**), etc.\n",
        "*   `type` (contesta a la pregunta: ¿que tipo de objeto estas representando?), `print` (imprimir objetos, es decir leer codigo).\n",
        "\n"
      ],
      "metadata": {
        "id": "zGdjw0CShg-a"
      }
    },
    {
      "cell_type": "code",
      "source": [
        "type((7,3))"
      ],
      "metadata": {
        "colab": {
          "base_uri": "https://localhost:8080/"
        },
        "id": "LGTGLmOtjUX1",
        "outputId": "9e7c8759-d59d-46da-9b11-5f4ed26106a0"
      },
      "execution_count": 1,
      "outputs": [
        {
          "output_type": "execute_result",
          "data": {
            "text/plain": [
              "tuple"
            ]
          },
          "metadata": {},
          "execution_count": 1
        }
      ]
    },
    {
      "cell_type": "code",
      "execution_count": 2,
      "metadata": {
        "colab": {
          "base_uri": "https://localhost:8080/"
        },
        "id": "YYWXjfJSbEAy",
        "outputId": "3a82463f-3c82-4d19-d761-1bf72b3156b9"
      },
      "outputs": [
        {
          "output_type": "execute_result",
          "data": {
            "text/plain": [
              "(7, 3, 10, 25)"
            ]
          },
          "metadata": {},
          "execution_count": 2
        }
      ],
      "source": [
        "5+2, 5-2, 5*2, 5**2"
      ]
    },
    {
      "cell_type": "code",
      "source": [
        "print(5+2)\n",
        "print(5-2)\n",
        "print(5*2)\n",
        "print(5**2)"
      ],
      "metadata": {
        "colab": {
          "base_uri": "https://localhost:8080/"
        },
        "id": "wlug77epjovZ",
        "outputId": "ab02aba0-e55f-4323-95ba-49b1a06b459f"
      },
      "execution_count": 3,
      "outputs": [
        {
          "output_type": "stream",
          "name": "stdout",
          "text": [
            "7\n",
            "3\n",
            "10\n",
            "25\n"
          ]
        }
      ]
    },
    {
      "cell_type": "code",
      "source": [
        "type(print(\"Hola mundo!\"))"
      ],
      "metadata": {
        "colab": {
          "base_uri": "https://localhost:8080/"
        },
        "id": "yloXkodxj6R-",
        "outputId": "24ed6246-f398-49c0-efb6-e1ca93540242"
      },
      "execution_count": 4,
      "outputs": [
        {
          "output_type": "stream",
          "name": "stdout",
          "text": [
            "Hola mundo!\n"
          ]
        },
        {
          "output_type": "execute_result",
          "data": {
            "text/plain": [
              "NoneType"
            ]
          },
          "metadata": {},
          "execution_count": 4
        }
      ]
    },
    {
      "cell_type": "code",
      "source": [
        "type(\"Hola mundo!\")"
      ],
      "metadata": {
        "colab": {
          "base_uri": "https://localhost:8080/"
        },
        "id": "QopnxqmUkh7c",
        "outputId": "dcdd3a2a-529e-4ed4-d03e-6ba0fabaa1a2"
      },
      "execution_count": 5,
      "outputs": [
        {
          "output_type": "execute_result",
          "data": {
            "text/plain": [
              "str"
            ]
          },
          "metadata": {},
          "execution_count": 5
        }
      ]
    },
    {
      "cell_type": "code",
      "source": [
        "type(1.0), type(1),"
      ],
      "metadata": {
        "colab": {
          "base_uri": "https://localhost:8080/"
        },
        "id": "9F9Sx68ak7Bv",
        "outputId": "9e2738a3-0b04-464a-a619-efbad4f83772"
      },
      "execution_count": 6,
      "outputs": [
        {
          "output_type": "execute_result",
          "data": {
            "text/plain": [
              "(float, int)"
            ]
          },
          "metadata": {},
          "execution_count": 6
        }
      ]
    },
    {
      "cell_type": "markdown",
      "source": [
        "Una variable es una forma de nombrar y guardad a un objeto."
      ],
      "metadata": {
        "id": "VcjdEzC1lSbS"
      }
    },
    {
      "cell_type": "code",
      "source": [
        "# Creando dos variables x , y que son int\n",
        "\n",
        "x = 5\n",
        "y = 2"
      ],
      "metadata": {
        "id": "a1Q5ZcsTlheo"
      },
      "execution_count": 7,
      "outputs": []
    },
    {
      "cell_type": "code",
      "source": [
        "# De esta forma, podemos realizar las operaciones antes dadas\n",
        "\n",
        "print(f\"Las operaciones anteriores son: {x+y}, {x-y}, {x*y}, {x**y}\")"
      ],
      "metadata": {
        "colab": {
          "base_uri": "https://localhost:8080/"
        },
        "id": "eNybuN5Il7CV",
        "outputId": "a4145107-2828-476a-c308-73a4beb36357"
      },
      "execution_count": 8,
      "outputs": [
        {
          "output_type": "stream",
          "name": "stdout",
          "text": [
            "Las operaciones anteriores son: 7, 3, 10, 25\n"
          ]
        }
      ]
    },
    {
      "cell_type": "markdown",
      "source": [
        "# **Listas **\n",
        "\n",
        "\n",
        "* Una lista en python es un contenedor de objetos   \n",
        "\n",
        "\n"
      ],
      "metadata": {
        "id": "__KPelxB6RtC"
      }
    },
    {
      "cell_type": "code",
      "source": [
        "# Hay que tener cuidado con el nombre de las variables.\n",
        "# Vamos a crear una lista\n",
        "Renata_1 = [7, 15, \"Diego\", \"azul\"]\n",
        "Mar_2 = []"
      ],
      "metadata": {
        "id": "iQEmpsVxTdQq"
      },
      "execution_count": 9,
      "outputs": []
    },
    {
      "cell_type": "code",
      "source": [
        "print(Renata_1)"
      ],
      "metadata": {
        "colab": {
          "base_uri": "https://localhost:8080/"
        },
        "id": "vWiei8O7TeJV",
        "outputId": "70c356b1-7e4e-4f8d-983e-07430f6727ac"
      },
      "execution_count": 10,
      "outputs": [
        {
          "output_type": "stream",
          "name": "stdout",
          "text": [
            "[7, 15, 'Diego', 'azul']\n"
          ]
        }
      ]
    },
    {
      "cell_type": "code",
      "source": [
        "print(Mar_2)"
      ],
      "metadata": {
        "colab": {
          "base_uri": "https://localhost:8080/"
        },
        "id": "qUEzQ8ErTh0f",
        "outputId": "913f5df7-fbce-4c30-927f-c66c86f13737"
      },
      "execution_count": 11,
      "outputs": [
        {
          "output_type": "stream",
          "name": "stdout",
          "text": [
            "[]\n"
          ]
        }
      ]
    },
    {
      "cell_type": "code",
      "source": [
        "Mar_2.append(16)\n",
        "Mar_2\n",
        ""
      ],
      "metadata": {
        "colab": {
          "base_uri": "https://localhost:8080/"
        },
        "id": "Iv8EFWnyTj-c",
        "outputId": "b9e27d82-d586-4956-9ea0-fea25882e77e"
      },
      "execution_count": 12,
      "outputs": [
        {
          "output_type": "execute_result",
          "data": {
            "text/plain": [
              "[16]"
            ]
          },
          "metadata": {},
          "execution_count": 12
        }
      ]
    }
  ]
}